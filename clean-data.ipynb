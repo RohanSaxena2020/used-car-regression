{
 "cells": [
  {
   "cell_type": "markdown",
   "metadata": {},
   "source": [
    "# Regression of Used Car Prices\n",
    "\n",
    "Kaggle Playground Series - Season 4, Episode 9"
   ]
  },
  {
   "cell_type": "markdown",
   "metadata": {},
   "source": [
    "##### In this notebook, I will clean up the training data so it's ready for my model!"
   ]
  },
  {
   "cell_type": "code",
   "execution_count": 3,
   "metadata": {},
   "outputs": [
    {
     "data": {
      "text/html": [
       "<div>\n",
       "<style scoped>\n",
       "    .dataframe tbody tr th:only-of-type {\n",
       "        vertical-align: middle;\n",
       "    }\n",
       "\n",
       "    .dataframe tbody tr th {\n",
       "        vertical-align: top;\n",
       "    }\n",
       "\n",
       "    .dataframe thead th {\n",
       "        text-align: right;\n",
       "    }\n",
       "</style>\n",
       "<table border=\"1\" class=\"dataframe\">\n",
       "  <thead>\n",
       "    <tr style=\"text-align: right;\">\n",
       "      <th></th>\n",
       "      <th>id</th>\n",
       "      <th>brand</th>\n",
       "      <th>model</th>\n",
       "      <th>model_year</th>\n",
       "      <th>milage</th>\n",
       "      <th>fuel_type</th>\n",
       "      <th>engine</th>\n",
       "      <th>transmission</th>\n",
       "      <th>ext_col</th>\n",
       "      <th>int_col</th>\n",
       "      <th>accident</th>\n",
       "      <th>clean_title</th>\n",
       "      <th>price</th>\n",
       "    </tr>\n",
       "  </thead>\n",
       "  <tbody>\n",
       "    <tr>\n",
       "      <th>0</th>\n",
       "      <td>0</td>\n",
       "      <td>MINI</td>\n",
       "      <td>Cooper S Base</td>\n",
       "      <td>2007</td>\n",
       "      <td>213000</td>\n",
       "      <td>Gasoline</td>\n",
       "      <td>172.0HP 1.6L 4 Cylinder Engine Gasoline Fuel</td>\n",
       "      <td>A/T</td>\n",
       "      <td>Yellow</td>\n",
       "      <td>Gray</td>\n",
       "      <td>None reported</td>\n",
       "      <td>Yes</td>\n",
       "      <td>4200</td>\n",
       "    </tr>\n",
       "    <tr>\n",
       "      <th>1</th>\n",
       "      <td>1</td>\n",
       "      <td>Lincoln</td>\n",
       "      <td>LS V8</td>\n",
       "      <td>2002</td>\n",
       "      <td>143250</td>\n",
       "      <td>Gasoline</td>\n",
       "      <td>252.0HP 3.9L 8 Cylinder Engine Gasoline Fuel</td>\n",
       "      <td>A/T</td>\n",
       "      <td>Silver</td>\n",
       "      <td>Beige</td>\n",
       "      <td>At least 1 accident or damage reported</td>\n",
       "      <td>Yes</td>\n",
       "      <td>4999</td>\n",
       "    </tr>\n",
       "    <tr>\n",
       "      <th>2</th>\n",
       "      <td>2</td>\n",
       "      <td>Chevrolet</td>\n",
       "      <td>Silverado 2500 LT</td>\n",
       "      <td>2002</td>\n",
       "      <td>136731</td>\n",
       "      <td>E85 Flex Fuel</td>\n",
       "      <td>320.0HP 5.3L 8 Cylinder Engine Flex Fuel Capab...</td>\n",
       "      <td>A/T</td>\n",
       "      <td>Blue</td>\n",
       "      <td>Gray</td>\n",
       "      <td>None reported</td>\n",
       "      <td>Yes</td>\n",
       "      <td>13900</td>\n",
       "    </tr>\n",
       "    <tr>\n",
       "      <th>3</th>\n",
       "      <td>3</td>\n",
       "      <td>Genesis</td>\n",
       "      <td>G90 5.0 Ultimate</td>\n",
       "      <td>2017</td>\n",
       "      <td>19500</td>\n",
       "      <td>Gasoline</td>\n",
       "      <td>420.0HP 5.0L 8 Cylinder Engine Gasoline Fuel</td>\n",
       "      <td>Transmission w/Dual Shift Mode</td>\n",
       "      <td>Black</td>\n",
       "      <td>Black</td>\n",
       "      <td>None reported</td>\n",
       "      <td>Yes</td>\n",
       "      <td>45000</td>\n",
       "    </tr>\n",
       "    <tr>\n",
       "      <th>4</th>\n",
       "      <td>4</td>\n",
       "      <td>Mercedes-Benz</td>\n",
       "      <td>Metris Base</td>\n",
       "      <td>2021</td>\n",
       "      <td>7388</td>\n",
       "      <td>Gasoline</td>\n",
       "      <td>208.0HP 2.0L 4 Cylinder Engine Gasoline Fuel</td>\n",
       "      <td>7-Speed A/T</td>\n",
       "      <td>Black</td>\n",
       "      <td>Beige</td>\n",
       "      <td>None reported</td>\n",
       "      <td>Yes</td>\n",
       "      <td>97500</td>\n",
       "    </tr>\n",
       "  </tbody>\n",
       "</table>\n",
       "</div>"
      ],
      "text/plain": [
       "   id          brand              model  model_year  milage      fuel_type  \\\n",
       "0   0           MINI      Cooper S Base        2007  213000       Gasoline   \n",
       "1   1        Lincoln              LS V8        2002  143250       Gasoline   \n",
       "2   2      Chevrolet  Silverado 2500 LT        2002  136731  E85 Flex Fuel   \n",
       "3   3        Genesis   G90 5.0 Ultimate        2017   19500       Gasoline   \n",
       "4   4  Mercedes-Benz        Metris Base        2021    7388       Gasoline   \n",
       "\n",
       "                                              engine  \\\n",
       "0       172.0HP 1.6L 4 Cylinder Engine Gasoline Fuel   \n",
       "1       252.0HP 3.9L 8 Cylinder Engine Gasoline Fuel   \n",
       "2  320.0HP 5.3L 8 Cylinder Engine Flex Fuel Capab...   \n",
       "3       420.0HP 5.0L 8 Cylinder Engine Gasoline Fuel   \n",
       "4       208.0HP 2.0L 4 Cylinder Engine Gasoline Fuel   \n",
       "\n",
       "                     transmission ext_col int_col  \\\n",
       "0                             A/T  Yellow    Gray   \n",
       "1                             A/T  Silver   Beige   \n",
       "2                             A/T    Blue    Gray   \n",
       "3  Transmission w/Dual Shift Mode   Black   Black   \n",
       "4                     7-Speed A/T   Black   Beige   \n",
       "\n",
       "                                 accident clean_title  price  \n",
       "0                           None reported         Yes   4200  \n",
       "1  At least 1 accident or damage reported         Yes   4999  \n",
       "2                           None reported         Yes  13900  \n",
       "3                           None reported         Yes  45000  \n",
       "4                           None reported         Yes  97500  "
      ]
     },
     "execution_count": 3,
     "metadata": {},
     "output_type": "execute_result"
    }
   ],
   "source": [
    "import pandas as pd\n",
    "\n",
    "df = pd.read_csv('train.csv')\n",
    "df.head()"
   ]
  },
  {
   "cell_type": "code",
   "execution_count": 4,
   "metadata": {},
   "outputs": [
    {
     "data": {
      "text/plain": [
       "(188533, 13)"
      ]
     },
     "execution_count": 4,
     "metadata": {},
     "output_type": "execute_result"
    }
   ],
   "source": [
    "df.shape"
   ]
  },
  {
   "cell_type": "code",
   "execution_count": 5,
   "metadata": {},
   "outputs": [
    {
     "data": {
      "text/plain": [
       "id                  0\n",
       "brand               0\n",
       "model               0\n",
       "model_year          0\n",
       "milage              0\n",
       "fuel_type        5083\n",
       "engine              0\n",
       "transmission        0\n",
       "ext_col             0\n",
       "int_col             0\n",
       "accident         2452\n",
       "clean_title     21419\n",
       "price               0\n",
       "dtype: int64"
      ]
     },
     "execution_count": 5,
     "metadata": {},
     "output_type": "execute_result"
    }
   ],
   "source": [
    "df.isnull().sum()"
   ]
  },
  {
   "cell_type": "code",
   "execution_count": 6,
   "metadata": {},
   "outputs": [
    {
     "data": {
      "text/plain": [
       "price\n",
       "15000     1920\n",
       "12000     1459\n",
       "30000     1280\n",
       "29000     1228\n",
       "8500      1204\n",
       "          ... \n",
       "239991      22\n",
       "269991      22\n",
       "259991      21\n",
       "107998      20\n",
       "45998       19\n",
       "Name: count, Length: 1569, dtype: int64"
      ]
     },
     "execution_count": 6,
     "metadata": {},
     "output_type": "execute_result"
    }
   ],
   "source": [
    "df['price'].value_counts()"
   ]
  },
  {
   "cell_type": "code",
   "execution_count": 7,
   "metadata": {},
   "outputs": [
    {
     "name": "stdout",
     "output_type": "stream",
     "text": [
      "2000\n",
      "2954083\n",
      "43878.01617753921\n"
     ]
    }
   ],
   "source": [
    "print(df['price'].min())\n",
    "print(df['price'].max())\n",
    "print(df['price'].mean())"
   ]
  },
  {
   "cell_type": "code",
   "execution_count": 8,
   "metadata": {},
   "outputs": [
    {
     "name": "stdout",
     "output_type": "stream",
     "text": [
      "100\n",
      "405000\n",
      "65705.2951737892\n"
     ]
    }
   ],
   "source": [
    "print(df['milage'].min())\n",
    "print(df['milage'].max())\n",
    "print(df['milage'].mean())"
   ]
  },
  {
   "cell_type": "code",
   "execution_count": 9,
   "metadata": {},
   "outputs": [],
   "source": [
    "import numpy as np\n",
    "from matplotlib import pyplot as plt\n",
    "%matplotlib inline\n",
    "import seaborn as sns"
   ]
  },
  {
   "cell_type": "code",
   "execution_count": 10,
   "metadata": {},
   "outputs": [
    {
     "data": {
      "image/png": "[encoded data removed]",
      "text/plain": [
       "<Figure size 1800x600 with 3 Axes>"
      ]
     },
     "metadata": {},
     "output_type": "display_data"
    }
   ],
   "source": [
    "# Set the aesthetic style of the plots\n",
    "sns.set_theme(style='whitegrid')\n",
    "\n",
    "# Set up the figure and axes for a 1x3 grid of plots\n",
    "fig, axes = plt.subplots(1, 3, figsize=(18, 6))\n",
    "fig.tight_layout(pad=5.0)\n",
    "\n",
    "# Plot histogram for 'price'\n",
    "sns.histplot(df['price'], bins=30, kde=False, color='blue', ax=axes[0])\n",
    "axes[0].set_xlim(2000, 3000000)  # Setting the x-axis range\n",
    "axes[0].set_title('Histogram of Car Prices')\n",
    "axes[0].set_xlabel('Price')\n",
    "axes[0].set_ylabel('Frequency')\n",
    "\n",
    "# Plot histogram for 'model_year'\n",
    "sns.histplot(df['model_year'], bins=20, kde=False, color='green', ax=axes[1])\n",
    "axes[1].set_title('Histogram of Model Year')\n",
    "axes[1].set_xlabel('Model Year')\n",
    "axes[1].set_ylabel('Frequency')\n",
    "\n",
    "# Plot histogram for 'milage'\n",
    "sns.histplot(df['milage'], bins=20, kde=False, color='red', ax=axes[2])\n",
    "axes[2].set_xlim(100, 405000)  # Setting the x-axis range\n",
    "axes[2].set_title('Histogram of Mileage')\n",
    "axes[2].set_xlabel('Mileage')\n",
    "axes[2].set_ylabel('Frequency')\n",
    "\n",
    "plt.show()"
   ]
  },
  {
   "cell_type": "markdown",
   "metadata": {},
   "source": [
    "### Based on this, there looks to be significant outliers in the \"price\" category.\n",
    "\n",
    "Let's proceed to removing outliers!"
   ]
  },
  {
   "cell_type": "markdown",
   "metadata": {},
   "source": [
    "### Removing Outliers: Numerical Data (Price, Model Year, Mileage)"
   ]
  },
  {
   "cell_type": "markdown",
   "metadata": {},
   "source": [
    "#### 1. Removing Outliers from price"
   ]
  },
  {
   "cell_type": "code",
   "execution_count": 11,
   "metadata": {},
   "outputs": [
    {
     "name": "stdout",
     "output_type": "stream",
     "text": [
      "Average Price: 43878.01617753921\n",
      "Price St Dev 78819.52225446468\n"
     ]
    }
   ],
   "source": [
    "# Calculate mean and standard deviation for 'price'\n",
    "mean_price = df['price'].mean()\n",
    "std_price = df['price'].std()\n",
    "\n",
    "print('Average Price:', mean_price)\n",
    "print('Price St Dev', std_price)"
   ]
  },
  {
   "cell_type": "code",
   "execution_count": 12,
   "metadata": {},
   "outputs": [
    {
     "name": "stdout",
     "output_type": "stream",
     "text": [
      "Lowest Price -271400.07284031954\n",
      "Highest Price 359156.1051953979\n"
     ]
    }
   ],
   "source": [
    "# Define the cutoff for outliers (4 standard deviations)\n",
    "cutoff_price = 4 * std_price\n",
    "lower_bound_price = mean_price - cutoff_price\n",
    "upper_bound_price = mean_price + cutoff_price\n",
    "\n",
    "print('Lowest Price', lower_bound_price)\n",
    "print('Highest Price', upper_bound_price)"
   ]
  },
  {
   "cell_type": "markdown",
   "metadata": {},
   "source": [
    "##### In this case, looks like no data is below the minimum price threshold"
   ]
  },
  {
   "cell_type": "code",
   "execution_count": 13,
   "metadata": {},
   "outputs": [],
   "source": [
    "# Filter out the outliers\n",
    "df_price_filtered = df[(df['price'] >= lower_bound_price) & (df['price'] <= upper_bound_price)]"
   ]
  },
  {
   "cell_type": "code",
   "execution_count": 14,
   "metadata": {},
   "outputs": [
    {
     "name": "stdout",
     "output_type": "stream",
     "text": [
      "Number of outliers removed from price: 985\n"
     ]
    }
   ],
   "source": [
    "# Display the number of outliers removed\n",
    "outliers_price = len(df) - len(df_price_filtered)\n",
    "print(f'Number of outliers removed from price: {outliers_price}')"
   ]
  },
  {
   "cell_type": "markdown",
   "metadata": {},
   "source": [
    "#### 2. Removing Outliers from model year"
   ]
  },
  {
   "cell_type": "code",
   "execution_count": 15,
   "metadata": {},
   "outputs": [
    {
     "name": "stdout",
     "output_type": "stream",
     "text": [
      "Number of outliers removed from model_year: 166\n"
     ]
    }
   ],
   "source": [
    "# Calculate mean and standard deviation for 'model_year'\n",
    "mean_year = df['model_year'].mean()\n",
    "std_year = df['model_year'].std()\n",
    "\n",
    "# Define the cutoff for outliers (4 standard deviations)\n",
    "cutoff_year = 4 * std_year\n",
    "lower_bound_year = mean_year - cutoff_year\n",
    "upper_bound_year = mean_year + cutoff_year\n",
    "\n",
    "# Filter out the outliers\n",
    "df_year_filtered = df[(df['model_year'] >= lower_bound_year) & (df['model_year'] <= upper_bound_year)]\n",
    "\n",
    "# Display the number of outliers removed\n",
    "outliers_year = len(df) - len(df_year_filtered)\n",
    "print(f'Number of outliers removed from model_year: {outliers_year}')"
   ]
  },
  {
   "cell_type": "markdown",
   "metadata": {},
   "source": [
    "#### 3. Removing Outliers from milage"
   ]
  },
  {
   "cell_type": "code",
   "execution_count": 16,
   "metadata": {},
   "outputs": [
    {
     "name": "stdout",
     "output_type": "stream",
     "text": [
      "Number of outliers removed from milage: 240\n"
     ]
    }
   ],
   "source": [
    "# Calculate mean and standard deviation for 'milage'\n",
    "mean_milage = df['milage'].mean()\n",
    "std_milage = df['milage'].std()\n",
    "\n",
    "# Define the cutoff for outliers (4 standard deviations)\n",
    "cutoff_milage = 4 * std_milage\n",
    "lower_bound_milage = mean_milage - cutoff_milage\n",
    "upper_bound_milage = mean_milage + cutoff_milage\n",
    "\n",
    "# Filter out the outliers\n",
    "df_milage_filtered = df[(df['milage'] >= lower_bound_milage) & (df['milage'] <= upper_bound_milage)]\n",
    "\n",
    "# Display the number of outliers removed\n",
    "outliers_milage = len(df) - len(df_milage_filtered)\n",
    "print(f'Number of outliers removed from milage: {outliers_milage}')\n"
   ]
  },
  {
   "cell_type": "code",
   "execution_count": 17,
   "metadata": {},
   "outputs": [],
   "source": [
    "# Start with the filtered dataframe for price\n",
    "df_filtered_v1 = df_price_filtered\n",
    "\n",
    "# Further filter df_filtered_v1 by model_year (removing model_year outliers)\n",
    "df_filtered_v1 = df_filtered_v1[(df_filtered_v1['model_year'] >= lower_bound_year) & (df_filtered_v1['model_year'] <= upper_bound_year)]\n",
    "\n",
    "# Further filter df_filtered_v1 by milage (removing milage outliers)\n",
    "df_filtered_v1 = df_filtered_v1[(df_filtered_v1['milage'] >= lower_bound_milage) & (df_filtered_v1['milage'] <= upper_bound_milage)]"
   ]
  },
  {
   "cell_type": "code",
   "execution_count": 18,
   "metadata": {},
   "outputs": [
    {
     "data": {
      "text/plain": [
       "(187146, 13)"
      ]
     },
     "execution_count": 18,
     "metadata": {},
     "output_type": "execute_result"
    }
   ],
   "source": [
    "df_filtered_v1.shape"
   ]
  },
  {
   "cell_type": "code",
   "execution_count": 19,
   "metadata": {},
   "outputs": [
    {
     "data": {
      "text/plain": [
       "(188533, 13)"
      ]
     },
     "execution_count": 19,
     "metadata": {},
     "output_type": "execute_result"
    }
   ],
   "source": [
    "df.shape"
   ]
  },
  {
   "cell_type": "markdown",
   "metadata": {},
   "source": [
    "### We removed 1,387 outliers so far!"
   ]
  },
  {
   "cell_type": "code",
   "execution_count": 22,
   "metadata": {},
   "outputs": [
    {
     "name": "stdout",
     "output_type": "stream",
     "text": [
      "349950\n",
      "264893\n"
     ]
    }
   ],
   "source": [
    "print(df_filtered_v1['price'].max())\n",
    "print(df_filtered_v1['milage'].max())"
   ]
  },
  {
   "cell_type": "code",
   "execution_count": 23,
   "metadata": {},
   "outputs": [
    {
     "data": {
      "image/png": "[encoded data removed]",
      "text/plain": [
       "<Figure size 1800x600 with 3 Axes>"
      ]
     },
     "metadata": {},
     "output_type": "display_data"
    }
   ],
   "source": [
    "# Set the aesthetic style of the plots\n",
    "sns.set_theme(style='whitegrid')\n",
    "\n",
    "# Set up the figure and axes for a 1x3 grid of plots\n",
    "fig, axes = plt.subplots(1, 3, figsize=(18, 6))\n",
    "fig.tight_layout(pad=5.0)\n",
    "\n",
    "# Plot histogram for 'price'\n",
    "sns.histplot(df_filtered_v1['price'], bins=30, kde=False, color='blue', ax=axes[0])\n",
    "axes[0].set_xlim(2000, 350000)  # Setting the x-axis range\n",
    "axes[0].set_title('Histogram of Car Prices')\n",
    "axes[0].set_xlabel('Price')\n",
    "axes[0].set_ylabel('Frequency')\n",
    "\n",
    "# Plot histogram for 'model_year'\n",
    "sns.histplot(df_filtered_v1['model_year'], bins=20, kde=False, color='green', ax=axes[1])\n",
    "axes[1].set_title('Histogram of Model Year')\n",
    "axes[1].set_xlabel('Model Year')\n",
    "axes[1].set_ylabel('Frequency')\n",
    "\n",
    "# Plot histogram for 'milage'\n",
    "sns.histplot(df_filtered_v1['milage'], bins=20, kde=False, color='red', ax=axes[2])\n",
    "axes[2].set_xlim(100, 300000)  # Setting the x-axis range\n",
    "axes[2].set_title('Histogram of Mileage')\n",
    "axes[2].set_xlabel('Mileage')\n",
    "axes[2].set_ylabel('Frequency')\n",
    "\n",
    "plt.show()"
   ]
  },
  {
   "cell_type": "markdown",
   "metadata": {},
   "source": [
    "#### Now it looks much smoother!"
   ]
  },
  {
   "cell_type": "markdown",
   "metadata": {},
   "source": [
    "### Data Cleaning: Dealing with null values for categorical data"
   ]
  },
  {
   "cell_type": "code",
   "execution_count": 24,
   "metadata": {},
   "outputs": [
    {
     "data": {
      "text/plain": [
       "id                  0\n",
       "brand               0\n",
       "model               0\n",
       "model_year          0\n",
       "milage              0\n",
       "fuel_type        5053\n",
       "engine              0\n",
       "transmission        0\n",
       "ext_col             0\n",
       "int_col             0\n",
       "accident         2425\n",
       "clean_title     21196\n",
       "price               0\n",
       "dtype: int64"
      ]
     },
     "execution_count": 24,
     "metadata": {},
     "output_type": "execute_result"
    }
   ],
   "source": [
    "df_filtered_v1.isnull().sum()"
   ]
  },
  {
   "cell_type": "code",
   "execution_count": 27,
   "metadata": {},
   "outputs": [
    {
     "data": {
      "text/plain": [
       "clean_title\n",
       "Yes    165950\n",
       "Name: count, dtype: int64"
      ]
     },
     "execution_count": 27,
     "metadata": {},
     "output_type": "execute_result"
    }
   ],
   "source": [
    "df_filtered_v1['clean_title'].value_counts()"
   ]
  },
  {
   "cell_type": "markdown",
   "metadata": {},
   "source": [
    "Since all of the cars in our filtered data have a clean title, let's fill all null values with Yes. "
   ]
  },
  {
   "cell_type": "code",
   "execution_count": 29,
   "metadata": {},
   "outputs": [
    {
     "name": "stdout",
     "output_type": "stream",
     "text": [
      "Null values in 'clean_title' after filling: 0\n"
     ]
    },
    {
     "name": "stderr",
     "output_type": "stream",
     "text": [
      "/var/folders/r3/_d0_r97169g0lxpyj8681vgw0000gn/T/ipykernel_78768/142801476.py:2: FutureWarning: A value is trying to be set on a copy of a DataFrame or Series through chained assignment using an inplace method.\n",
      "The behavior will change in pandas 3.0. This inplace method will never work because the intermediate object on which we are setting values always behaves as a copy.\n",
      "\n",
      "For example, when doing 'df[col].method(value, inplace=True)', try using 'df.method({col: value}, inplace=True)' or df[col] = df[col].method(value) instead, to perform the operation inplace on the original object.\n",
      "\n",
      "\n",
      "  df_filtered_v1['clean_title'].fillna('Yes', inplace=True)\n"
     ]
    }
   ],
   "source": [
    "# Fill null values in 'clean_title' with 'Yes'\n",
    "df_filtered_v1['clean_title'].fillna('Yes', inplace=True)\n",
    "\n",
    "# Verify the operation\n",
    "print(f\"Null values in 'clean_title' after filling: {df_filtered_v1['clean_title'].isnull().sum()}\")"
   ]
  },
  {
   "cell_type": "code",
   "execution_count": 28,
   "metadata": {},
   "outputs": [
    {
     "data": {
      "text/plain": [
       "fuel_type\n",
       "Gasoline          164827\n",
       "Hybrid              6792\n",
       "E85 Flex Fuel       5391\n",
       "Diesel              3901\n",
       "–                    647\n",
       "Plug-In Hybrid       520\n",
       "not supported         15\n",
       "Name: count, dtype: int64"
      ]
     },
     "execution_count": 28,
     "metadata": {},
     "output_type": "execute_result"
    }
   ],
   "source": [
    "df_filtered_v1['fuel_type'].value_counts()"
   ]
  },
  {
   "cell_type": "markdown",
   "metadata": {},
   "source": [
    "Since the majority of cars are Gasoline, let's fill the null values with Gasoline"
   ]
  },
  {
   "cell_type": "code",
   "execution_count": 30,
   "metadata": {},
   "outputs": [
    {
     "name": "stdout",
     "output_type": "stream",
     "text": [
      "Null values in 'fuel_type' after filling: 0\n"
     ]
    },
    {
     "name": "stderr",
     "output_type": "stream",
     "text": [
      "/var/folders/r3/_d0_r97169g0lxpyj8681vgw0000gn/T/ipykernel_78768/3180561894.py:2: FutureWarning: A value is trying to be set on a copy of a DataFrame or Series through chained assignment using an inplace method.\n",
      "The behavior will change in pandas 3.0. This inplace method will never work because the intermediate object on which we are setting values always behaves as a copy.\n",
      "\n",
      "For example, when doing 'df[col].method(value, inplace=True)', try using 'df.method({col: value}, inplace=True)' or df[col] = df[col].method(value) instead, to perform the operation inplace on the original object.\n",
      "\n",
      "\n",
      "  df_filtered_v1['fuel_type'].fillna('Gasoline', inplace=True)\n"
     ]
    }
   ],
   "source": [
    "# Fill null values in 'fuel_type' with 'Gasoline'\n",
    "df_filtered_v1['fuel_type'].fillna('Gasoline', inplace=True)\n",
    "\n",
    "# Verify the operation\n",
    "print(f\"Null values in 'fuel_type' after filling: {df_filtered_v1['fuel_type'].isnull().sum()}\")"
   ]
  },
  {
   "cell_type": "code",
   "execution_count": 31,
   "metadata": {},
   "outputs": [
    {
     "data": {
      "text/plain": [
       "accident\n",
       "None reported                             143321\n",
       "At least 1 accident or damage reported     41400\n",
       "Name: count, dtype: int64"
      ]
     },
     "execution_count": 31,
     "metadata": {},
     "output_type": "execute_result"
    }
   ],
   "source": [
    "df_filtered_v1['accident'].value_counts()"
   ]
  },
  {
   "cell_type": "markdown",
   "metadata": {},
   "source": [
    "For the accident null values, since it's only around 1% of the data, let's just drop those."
   ]
  },
  {
   "cell_type": "code",
   "execution_count": 32,
   "metadata": {},
   "outputs": [
    {
     "name": "stdout",
     "output_type": "stream",
     "text": [
      "Null values in 'accident' after dropping: 0\n"
     ]
    }
   ],
   "source": [
    "# Drop rows where 'accident' has null values\n",
    "df_filtered_v1.dropna(subset=['accident'], inplace=True)\n",
    "\n",
    "# Verify the operation\n",
    "print(f\"Null values in 'accident' after dropping: {df_filtered_v1['accident'].isnull().sum()}\")\n"
   ]
  },
  {
   "cell_type": "code",
   "execution_count": 33,
   "metadata": {},
   "outputs": [
    {
     "data": {
      "text/plain": [
       "id              0\n",
       "brand           0\n",
       "model           0\n",
       "model_year      0\n",
       "milage          0\n",
       "fuel_type       0\n",
       "engine          0\n",
       "transmission    0\n",
       "ext_col         0\n",
       "int_col         0\n",
       "accident        0\n",
       "clean_title     0\n",
       "price           0\n",
       "dtype: int64"
      ]
     },
     "execution_count": 33,
     "metadata": {},
     "output_type": "execute_result"
    }
   ],
   "source": [
    "df_filtered_v1.isnull().sum()"
   ]
  },
  {
   "cell_type": "code",
   "execution_count": 34,
   "metadata": {},
   "outputs": [
    {
     "data": {
      "text/plain": [
       "(184721, 13)"
      ]
     },
     "execution_count": 34,
     "metadata": {},
     "output_type": "execute_result"
    }
   ],
   "source": [
    "df_filtered_v1.shape"
   ]
  },
  {
   "cell_type": "markdown",
   "metadata": {},
   "source": [
    "We have cleaned up the data and now have over 184000 data points to work with!"
   ]
  }
 ],
 "metadata": {
  "kernelspec": {
   "display_name": "Python 3",
   "language": "python",
   "name": "python3"
  },
  "language_info": {
   "codemirror_mode": {
    "name": "ipython",
    "version": 3
   },
   "file_extension": ".py",
   "mimetype": "text/x-python",
   "name": "python",
   "nbconvert_exporter": "python",
   "pygments_lexer": "ipython3",
   "version": "3.10.8"
  }
 },
 "nbformat": 4,
 "nbformat_minor": 2
}
